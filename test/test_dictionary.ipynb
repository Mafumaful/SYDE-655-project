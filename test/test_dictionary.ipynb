{
 "cells": [
  {
   "attachments": {},
   "cell_type": "markdown",
   "metadata": {},
   "source": [
    "print all values in a dictionary"
   ]
  },
  {
   "cell_type": "code",
   "execution_count": 1,
   "metadata": {},
   "outputs": [
    {
     "name": "stdout",
     "output_type": "stream",
     "text": [
      "fruit \n",
      " {'apple': 5, 'banana': 3, 'orange': 2}\n",
      "vegetable \n",
      " {'carrot': 4, 'tomato': 2, 'cucumber': 1}\n"
     ]
    }
   ],
   "source": [
    "my_dict = {'fruit': {'apple': 5, 'banana': 3, 'orange': 2},\n",
    "           'vegetable': {'carrot': 4, 'tomato': 2, 'cucumber': 1}}\n",
    "\n",
    "for key, value in my_dict.items():\n",
    "    print(key, '\\r\\n', value)\n"
   ]
  },
  {
   "attachments": {},
   "cell_type": "markdown",
   "metadata": {},
   "source": [
    "output the element after a[3]"
   ]
  },
  {
   "cell_type": "code",
   "execution_count": 2,
   "metadata": {},
   "outputs": [
    {
     "name": "stdout",
     "output_type": "stream",
     "text": [
      "[4, 5, 6, 7, 8, 9, 10]\n"
     ]
    }
   ],
   "source": [
    "a = [1,2,3,4,5,6,7,8,9,10]\n",
    "print(a[3:])"
   ]
  },
  {
   "cell_type": "markdown",
   "metadata": {},
   "source": [
    "repeat"
   ]
  },
  {
   "cell_type": "code",
   "execution_count": 6,
   "metadata": {},
   "outputs": [
    {
     "name": "stdout",
     "output_type": "stream",
     "text": [
      "[SX_0, SX_1, SX_2]\n"
     ]
    },
    {
     "data": {
      "text/plain": [
       "SX(\n",
       "[[SX_0, SX_0, SX_0], \n",
       " [SX_1, SX_1, SX_1], \n",
       " [SX_2, SX_2, SX_2]])"
      ]
     },
     "execution_count": 6,
     "metadata": {},
     "output_type": "execute_result"
    }
   ],
   "source": [
    "from casadi import *\n",
    "SX = SX.sym('SX',3,1)\n",
    "print(SX)\n",
    "repmat(SX,1,3)"
   ]
  },
  {
   "attachments": {},
   "cell_type": "markdown",
   "metadata": {},
   "source": [
    "let's take an example to demonstrate the fourth-order Runge-Kutta method. \n",
    "\n",
    "Consider the simple first-order differential equation: \n",
    "\n",
    "dy/dx = x + y,       y(0) = 1\n",
    "\n",
    "We want to find the value of y at x = 0.5 using RK4. Here's how we can do it step by step:\n",
    "\n",
    "Step 1: Choose a step size h = 0.1 and define initial conditions as x_0 = 0 and y_0 = 1.\n",
    "\n",
    "Step 2: Calculate the intermediate slopes k1, k2, k3, and k4 for the given function and values of x and y. \n",
    "\n",
    "k1 = h * (x_0 + y_0) = 0.1 * (0 + 1) = 0.1\n",
    "k2 = h * (x_0 + h/2 + y_0 + k1/2) = 0.1 * (0.05 + 1.05) = 0.11\n",
    "k3 = h * (x_0 + h/2 + y_0 + k2/2) = 0.1 * (0.05 + 1.055) = 0.1105\n",
    "k4 = h * (x_0 + h + y_0 + k3) = 0.1 * (0.1 + 1.16525) = 0.116525\n",
    "\n",
    "Step 3: Calculate the final value of y_i+1 by combining the slopes with a weighted average. \n",
    "\n",
    "y_1 = y_0 + (1/6) * (k1 + 2*k2 + 2*k3 + k4)\n",
    "    = 1 + (1/6) * (0.1 + 2*0.11 + 2*0.1105 + 0.116525)\n",
    "    = 1.115535\n",
    "\n",
    "So, the value of y at x = 0.5 is approximately 1.115535 when calculated using the fourth-order Runge-Kutta method with a step size of h = 0.1. \n",
    "\n",
    "Note that we can repeat this process with smaller step sizes to achieve higher accuracy in the solution."
   ]
  }
 ],
 "metadata": {
  "kernelspec": {
   "display_name": "Dynamic_model",
   "language": "python",
   "name": "python3"
  },
  "language_info": {
   "codemirror_mode": {
    "name": "ipython",
    "version": 3
   },
   "file_extension": ".py",
   "mimetype": "text/x-python",
   "name": "python",
   "nbconvert_exporter": "python",
   "pygments_lexer": "ipython3",
   "version": "3.10.9"
  },
  "orig_nbformat": 4,
  "vscode": {
   "interpreter": {
    "hash": "60e0b2e6bcc3290ca0c9a20552b524296a286b732147a1583f3c7a1c15713343"
   }
  }
 },
 "nbformat": 4,
 "nbformat_minor": 2
}
