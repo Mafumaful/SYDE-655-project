{
 "cells": [
  {
   "attachments": {},
   "cell_type": "markdown",
   "metadata": {},
   "source": [
    "print all values in a dictionary"
   ]
  },
  {
   "cell_type": "code",
   "execution_count": 1,
   "metadata": {},
   "outputs": [
    {
     "name": "stdout",
     "output_type": "stream",
     "text": [
      "fruit \n",
      " {'apple': 5, 'banana': 3, 'orange': 2}\n",
      "vegetable \n",
      " {'carrot': 4, 'tomato': 2, 'cucumber': 1}\n"
     ]
    }
   ],
   "source": [
    "my_dict = {'fruit': {'apple': 5, 'banana': 3, 'orange': 2},\n",
    "           'vegetable': {'carrot': 4, 'tomato': 2, 'cucumber': 1}}\n",
    "\n",
    "for key, value in my_dict.items():\n",
    "    print(key, '\\r\\n', value)\n"
   ]
  }
 ],
 "metadata": {
  "kernelspec": {
   "display_name": "Dynamic_model",
   "language": "python",
   "name": "python3"
  },
  "language_info": {
   "codemirror_mode": {
    "name": "ipython",
    "version": 3
   },
   "file_extension": ".py",
   "mimetype": "text/x-python",
   "name": "python",
   "nbconvert_exporter": "python",
   "pygments_lexer": "ipython3",
   "version": "3.10.9"
  },
  "orig_nbformat": 4,
  "vscode": {
   "interpreter": {
    "hash": "60e0b2e6bcc3290ca0c9a20552b524296a286b732147a1583f3c7a1c15713343"
   }
  }
 },
 "nbformat": 4,
 "nbformat_minor": 2
}
